{
  "cells": [
    {
      "cell_type": "markdown",
      "metadata": {
        "id": "oOiyq8J1fziC"
      },
      "source": [
        "# Tutorial 3 - Basic plotting"
      ]
    },
    {
      "cell_type": "markdown",
      "metadata": {
        "id": "yhQWe38PfziF"
      },
      "source": [
        "In [Tutorial 2](./Tutorial%202%20-%20Compare%20models.ipynb), we made use of PyBaMM's automatic plotting function when comparing models. This gave a good quick overview of many of the key variables in the model. However, by passing in just a few arguments it is easy to plot any of the many other variables that may be of interest to you. We start by building and solving a model as before:"
      ]
    },
    {
      "cell_type": "code",
      "execution_count": 3,
      "metadata": {
        "id": "w34JEMQEfziF",
        "outputId": "afaf8744-7e5f-4915-bf4e-402d86652d5e",
        "colab": {
          "base_uri": "https://localhost:8080/"
        }
      },
      "outputs": [
        {
          "output_type": "stream",
          "name": "stdout",
          "text": [
            "\u001b[K     |████████████████████████████████| 1.9 MB 4.3 MB/s \n",
            "\u001b[K     |████████████████████████████████| 139 kB 28.4 MB/s \n",
            "\u001b[K     |████████████████████████████████| 3.3 MB 26.5 MB/s \n",
            "\u001b[K     |████████████████████████████████| 41 kB 686 kB/s \n",
            "\u001b[K     |████████████████████████████████| 34.2 MB 77 kB/s \n",
            "\u001b[K     |████████████████████████████████| 6.2 MB 74.5 MB/s \n",
            "\u001b[K     |████████████████████████████████| 561 kB 22.8 MB/s \n",
            "\u001b[K     |████████████████████████████████| 4.3 MB 44.7 MB/s \n",
            "\u001b[31mERROR: pip's dependency resolver does not currently take into account all the packages that are installed. This behaviour is the source of the following dependency conflicts.\n",
            "albumentations 0.1.12 requires imgaug<0.2.7,>=0.2.5, but you have imgaug 0.2.9 which is incompatible.\u001b[0m\n",
            "\u001b[?25h"
          ]
        },
        {
          "output_type": "execute_result",
          "data": {
            "text/plain": [
              "<pybamm.solvers.solution.Solution at 0x7fb990d909d0>"
            ]
          },
          "metadata": {},
          "execution_count": 3
        }
      ],
      "source": [
        "!pip install pybamm -q    # install PyBaMM if it is not installed\n",
        "import pybamm\n",
        "import matplotlib.pyplot as plt\n",
        "\n",
        "model_dfn = pybamm.lithium_ion.DFN()\n",
        "sim_dfn = pybamm.Simulation(model_dfn)\n",
        "sim_dfn.solve([0, 3600])"
      ]
    },
    {
      "cell_type": "markdown",
      "metadata": {
        "id": "VcuaS5lUfziH"
      },
      "source": [
        "We now want to plot a selection of the model variables. To see a full list of the available variables just type:"
      ]
    },
    {
      "cell_type": "code",
      "execution_count": 4,
      "metadata": {
        "id": "SITkxW1mfziH",
        "outputId": "0059e704-e20b-43c2-dd4b-17991e4a379f",
        "colab": {
          "base_uri": "https://localhost:8080/"
        }
      },
      "outputs": [
        {
          "output_type": "execute_result",
          "data": {
            "text/plain": [
              "['Time',\n",
              " 'Time [s]',\n",
              " 'Time [min]',\n",
              " 'Time [h]',\n",
              " 'x',\n",
              " 'x [m]',\n",
              " 'x_n',\n",
              " 'x_n [m]',\n",
              " 'x_s',\n",
              " 'x_s [m]',\n",
              " 'x_p',\n",
              " 'x_p [m]',\n",
              " 'Sum of electrolyte reaction source terms',\n",
              " 'Sum of positive electrode electrolyte reaction source terms',\n",
              " 'Sum of x-averaged positive electrode electrolyte reaction source terms',\n",
              " 'Sum of interfacial current densities',\n",
              " 'Sum of positive electrode interfacial current densities',\n",
              " 'Sum of x-averaged positive electrode interfacial current densities',\n",
              " 'Sum of negative electrode electrolyte reaction source terms',\n",
              " 'Sum of x-averaged negative electrode electrolyte reaction source terms',\n",
              " 'Sum of negative electrode interfacial current densities',\n",
              " 'Sum of x-averaged negative electrode interfacial current densities',\n",
              " 'r_p',\n",
              " 'r_p [m]',\n",
              " 'r_n',\n",
              " 'r_n [m]',\n",
              " 'Current density variable',\n",
              " 'Total current density',\n",
              " 'Total current density [A.m-2]',\n",
              " 'Current [A]',\n",
              " 'C-rate',\n",
              " 'Discharge capacity [A.h]',\n",
              " 'Porosity',\n",
              " 'Separator porosity',\n",
              " 'Positive electrode porosity',\n",
              " 'X-averaged separator porosity',\n",
              " 'X-averaged positive electrode porosity',\n",
              " 'Negative electrode porosity',\n",
              " 'X-averaged negative electrode porosity',\n",
              " 'Leading-order porosity',\n",
              " 'Leading-order separator porosity',\n",
              " 'Leading-order positive electrode porosity',\n",
              " 'Leading-order x-averaged separator porosity',\n",
              " 'Leading-order x-averaged positive electrode porosity',\n",
              " 'Leading-order negative electrode porosity',\n",
              " 'Leading-order x-averaged negative electrode porosity',\n",
              " 'Porosity change',\n",
              " 'Separator porosity change',\n",
              " 'Positive electrode porosity change',\n",
              " 'X-averaged separator porosity change',\n",
              " 'X-averaged positive electrode porosity change',\n",
              " 'Negative electrode porosity change',\n",
              " 'X-averaged negative electrode porosity change',\n",
              " 'Leading-order x-averaged separator porosity change',\n",
              " 'Leading-order x-averaged positive electrode porosity change',\n",
              " 'Leading-order x-averaged negative electrode porosity change',\n",
              " 'Negative electrode interface utilisation variable',\n",
              " 'X-averaged negative electrode interface utilisation variable',\n",
              " 'Negative electrode interface utilisation',\n",
              " 'X-averaged negative electrode interface utilisation',\n",
              " 'Positive electrode interface utilisation variable',\n",
              " 'X-averaged positive electrode interface utilisation variable',\n",
              " 'Positive electrode interface utilisation',\n",
              " 'X-averaged positive electrode interface utilisation',\n",
              " 'Negative electrode active material volume fraction',\n",
              " 'X-averaged negative electrode active material volume fraction',\n",
              " 'Negative electrode capacity [A.h]',\n",
              " 'Negative particle radius',\n",
              " 'Negative particle radius [m]',\n",
              " 'Negative electrode surface area to volume ratio',\n",
              " 'Negative electrode surface area to volume ratio [m-1]',\n",
              " 'X-averaged negative electrode surface area to volume ratio',\n",
              " 'X-averaged negative electrode surface area to volume ratio [m-1]',\n",
              " 'Negative electrode active material volume fraction change',\n",
              " 'X-averaged negative electrode active material volume fraction change',\n",
              " 'Positive electrode active material volume fraction',\n",
              " 'X-averaged positive electrode active material volume fraction',\n",
              " 'Positive electrode capacity [A.h]',\n",
              " 'Positive particle radius',\n",
              " 'Positive particle radius [m]',\n",
              " 'Positive electrode surface area to volume ratio',\n",
              " 'Positive electrode surface area to volume ratio [m-1]',\n",
              " 'X-averaged positive electrode surface area to volume ratio',\n",
              " 'X-averaged positive electrode surface area to volume ratio [m-1]',\n",
              " 'Positive electrode active material volume fraction change',\n",
              " 'X-averaged positive electrode active material volume fraction change',\n",
              " 'Separator pressure',\n",
              " 'X-averaged separator pressure',\n",
              " 'Separator transverse volume-averaged velocity',\n",
              " 'Positive electrode transverse volume-averaged velocity',\n",
              " 'Separator transverse volume-averaged velocity [m.s-2]',\n",
              " 'Positive electrode transverse volume-averaged velocity [m.s-2]',\n",
              " 'X-averaged separator transverse volume-averaged velocity',\n",
              " 'X-averaged positive electrode transverse volume-averaged velocity',\n",
              " 'X-averaged separator transverse volume-averaged velocity [m.s-2]',\n",
              " 'X-averaged positive electrode transverse volume-averaged velocity [m.s-2]',\n",
              " 'Transverse volume-averaged velocity',\n",
              " 'Transverse volume-averaged velocity [m.s-2]',\n",
              " 'Negative electrode transverse volume-averaged velocity',\n",
              " 'Negative electrode transverse volume-averaged velocity [m.s-2]',\n",
              " 'X-averaged negative electrode transverse volume-averaged velocity',\n",
              " 'X-averaged negative electrode transverse volume-averaged velocity [m.s-2]',\n",
              " 'Separator transverse volume-averaged acceleration',\n",
              " 'Positive electrode transverse volume-averaged acceleration',\n",
              " 'Separator transverse volume-averaged acceleration [m.s-2]',\n",
              " 'Positive electrode transverse volume-averaged acceleration [m.s-2]',\n",
              " 'X-averaged separator transverse volume-averaged acceleration',\n",
              " 'X-averaged positive electrode transverse volume-averaged acceleration',\n",
              " 'X-averaged separator transverse volume-averaged acceleration [m.s-2]',\n",
              " 'X-averaged positive electrode transverse volume-averaged acceleration [m.s-2]',\n",
              " 'Transverse volume-averaged acceleration',\n",
              " 'Transverse volume-averaged acceleration [m.s-2]',\n",
              " 'Negative electrode transverse volume-averaged acceleration',\n",
              " 'Negative electrode transverse volume-averaged acceleration [m.s-2]',\n",
              " 'X-averaged negative electrode transverse volume-averaged acceleration',\n",
              " 'X-averaged negative electrode transverse volume-averaged acceleration [m.s-2]',\n",
              " 'Positive electrode volume-averaged velocity',\n",
              " 'Positive electrode volume-averaged velocity [m.s-1]',\n",
              " 'Negative electrode volume-averaged velocity',\n",
              " 'Negative electrode volume-averaged velocity [m.s-1]',\n",
              " 'Positive electrode volume-averaged acceleration',\n",
              " 'Positive electrode volume-averaged acceleration [m.s-1]',\n",
              " 'X-averaged positive electrode volume-averaged acceleration',\n",
              " 'X-averaged positive electrode volume-averaged acceleration [m.s-1]',\n",
              " 'Negative electrode volume-averaged acceleration',\n",
              " 'Negative electrode volume-averaged acceleration [m.s-1]',\n",
              " 'X-averaged negative electrode volume-averaged acceleration',\n",
              " 'X-averaged negative electrode volume-averaged acceleration [m.s-1]',\n",
              " 'Positive electrode pressure',\n",
              " 'X-averaged positive electrode pressure',\n",
              " 'Negative electrode pressure',\n",
              " 'X-averaged negative electrode pressure',\n",
              " 'Negative particle concentration',\n",
              " 'Negative particle concentration [mol.m-3]',\n",
              " 'X-averaged negative particle concentration',\n",
              " 'X-averaged negative particle concentration [mol.m-3]',\n",
              " 'R-averaged negative particle concentration',\n",
              " 'R-averaged negative particle concentration [mol.m-3]',\n",
              " 'Average negative particle concentration',\n",
              " 'Average negative particle concentration [mol.m-3]',\n",
              " 'Negative particle surface concentration',\n",
              " 'Negative particle surface concentration [mol.m-3]',\n",
              " 'X-averaged negative particle surface concentration',\n",
              " 'X-averaged negative particle surface concentration [mol.m-3]',\n",
              " 'Negative electrode extent of lithiation',\n",
              " 'X-averaged negative electrode extent of lithiation',\n",
              " 'Minimum negative particle concentration',\n",
              " 'Maximum negative particle concentration',\n",
              " 'Minimum negative particle concentration [mol.m-3]',\n",
              " 'Maximum negative particle concentration [mol.m-3]',\n",
              " 'Minimum negative particle surface concentration',\n",
              " 'Maximum negative particle surface concentration',\n",
              " 'Minimum negative particle surface concentration [mol.m-3]',\n",
              " 'Maximum negative particle surface concentration [mol.m-3]',\n",
              " 'Positive particle concentration',\n",
              " 'Positive particle concentration [mol.m-3]',\n",
              " 'X-averaged positive particle concentration',\n",
              " 'X-averaged positive particle concentration [mol.m-3]',\n",
              " 'R-averaged positive particle concentration',\n",
              " 'R-averaged positive particle concentration [mol.m-3]',\n",
              " 'Average positive particle concentration',\n",
              " 'Average positive particle concentration [mol.m-3]',\n",
              " 'Positive particle surface concentration',\n",
              " 'Positive particle surface concentration [mol.m-3]',\n",
              " 'X-averaged positive particle surface concentration',\n",
              " 'X-averaged positive particle surface concentration [mol.m-3]',\n",
              " 'Positive electrode extent of lithiation',\n",
              " 'X-averaged positive electrode extent of lithiation',\n",
              " 'Minimum positive particle concentration',\n",
              " 'Maximum positive particle concentration',\n",
              " 'Minimum positive particle concentration [mol.m-3]',\n",
              " 'Maximum positive particle concentration [mol.m-3]',\n",
              " 'Minimum positive particle surface concentration',\n",
              " 'Maximum positive particle surface concentration',\n",
              " 'Minimum positive particle surface concentration [mol.m-3]',\n",
              " 'Maximum positive particle surface concentration [mol.m-3]',\n",
              " 'Negative electrode potential',\n",
              " 'Negative electrode potential [V]',\n",
              " 'X-averaged negative electrode potential',\n",
              " 'X-averaged negative electrode potential [V]',\n",
              " 'Negative electrode ohmic losses',\n",
              " 'Negative electrode ohmic losses [V]',\n",
              " 'X-averaged negative electrode ohmic losses',\n",
              " 'X-averaged negative electrode ohmic losses [V]',\n",
              " 'Gradient of negative electrode potential',\n",
              " 'Positive electrode potential',\n",
              " 'Positive electrode potential [V]',\n",
              " 'X-averaged positive electrode potential',\n",
              " 'X-averaged positive electrode potential [V]',\n",
              " 'Positive electrode ohmic losses',\n",
              " 'Positive electrode ohmic losses [V]',\n",
              " 'X-averaged positive electrode ohmic losses',\n",
              " 'X-averaged positive electrode ohmic losses [V]',\n",
              " 'Gradient of positive electrode potential',\n",
              " 'Porosity times concentration',\n",
              " 'Separator porosity times concentration',\n",
              " 'Positive electrode porosity times concentration',\n",
              " 'Negative electrode porosity times concentration',\n",
              " 'Negative electrolyte potential',\n",
              " 'Negative electrolyte potential [V]',\n",
              " 'Separator electrolyte potential',\n",
              " 'Separator electrolyte potential [V]',\n",
              " 'Positive electrolyte potential',\n",
              " 'Positive electrolyte potential [V]',\n",
              " 'Electrolyte potential',\n",
              " 'Electrolyte potential [V]',\n",
              " 'X-averaged electrolyte potential',\n",
              " 'X-averaged electrolyte potential [V]',\n",
              " 'X-averaged negative electrolyte potential',\n",
              " 'X-averaged negative electrolyte potential [V]',\n",
              " 'X-averaged separator electrolyte potential',\n",
              " 'X-averaged separator electrolyte potential [V]',\n",
              " 'X-averaged positive electrolyte potential',\n",
              " 'X-averaged positive electrolyte potential [V]',\n",
              " 'X-averaged electrolyte overpotential',\n",
              " 'X-averaged electrolyte overpotential [V]',\n",
              " 'Gradient of separator electrolyte potential',\n",
              " 'Gradient of positive electrolyte potential',\n",
              " 'Gradient of electrolyte potential',\n",
              " 'Gradient of negative electrolyte potential',\n",
              " 'Negative current collector temperature',\n",
              " 'Negative current collector temperature [K]',\n",
              " 'X-averaged negative electrode temperature',\n",
              " 'X-averaged negative electrode temperature [K]',\n",
              " 'Negative electrode temperature',\n",
              " 'Negative electrode temperature [K]',\n",
              " 'X-averaged separator temperature',\n",
              " 'X-averaged separator temperature [K]',\n",
              " 'Separator temperature',\n",
              " 'Separator temperature [K]',\n",
              " 'X-averaged positive electrode temperature',\n",
              " 'X-averaged positive electrode temperature [K]',\n",
              " 'Positive electrode temperature',\n",
              " 'Positive electrode temperature [K]',\n",
              " 'Positive current collector temperature',\n",
              " 'Positive current collector temperature [K]',\n",
              " 'Cell temperature',\n",
              " 'Cell temperature [K]',\n",
              " 'X-averaged cell temperature',\n",
              " 'X-averaged cell temperature [K]',\n",
              " 'Volume-averaged cell temperature',\n",
              " 'Volume-averaged cell temperature [K]',\n",
              " 'Ambient temperature [K]',\n",
              " 'Ambient temperature',\n",
              " 'Inner SEI thickness',\n",
              " 'Inner SEI thickness [m]',\n",
              " 'Outer SEI thickness',\n",
              " 'Outer SEI thickness [m]',\n",
              " 'X-averaged inner SEI thickness',\n",
              " 'X-averaged inner SEI thickness [m]',\n",
              " 'X-averaged outer SEI thickness',\n",
              " 'X-averaged outer SEI thickness [m]',\n",
              " 'SEI thickness',\n",
              " 'SEI thickness [m]',\n",
              " 'Total SEI thickness',\n",
              " 'Total SEI thickness [m]',\n",
              " 'X-averaged SEI thickness',\n",
              " 'X-averaged SEI thickness [m]',\n",
              " 'X-averaged total SEI thickness',\n",
              " 'X-averaged total SEI thickness [m]',\n",
              " 'X-averaged negative electrode resistance [Ohm.m2]',\n",
              " 'Inner SEI concentration [mol.m-3]',\n",
              " 'X-averaged inner SEI concentration [mol.m-3]',\n",
              " 'Outer SEI concentration [mol.m-3]',\n",
              " 'X-averaged outer SEI concentration [mol.m-3]',\n",
              " 'SEI concentration [mol.m-3]',\n",
              " 'X-averaged SEI concentration [mol.m-3]',\n",
              " 'Loss of lithium to SEI [mol]',\n",
              " 'Loss of capacity to SEI [A.h]',\n",
              " 'Inner SEI interfacial current density',\n",
              " 'Inner SEI interfacial current density [A.m-2]',\n",
              " 'X-averaged inner SEI interfacial current density',\n",
              " 'X-averaged inner SEI interfacial current density [A.m-2]',\n",
              " 'Outer SEI interfacial current density',\n",
              " 'Outer SEI interfacial current density [A.m-2]',\n",
              " 'X-averaged outer SEI interfacial current density',\n",
              " 'X-averaged outer SEI interfacial current density [A.m-2]',\n",
              " 'SEI interfacial current density',\n",
              " 'SEI interfacial current density [A.m-2]',\n",
              " 'X-averaged SEI interfacial current density',\n",
              " 'X-averaged SEI interfacial current density [A.m-2]',\n",
              " 'Lithium plating concentration',\n",
              " 'Lithium plating concentration [mol.m-3]',\n",
              " 'X-averaged lithium plating concentration',\n",
              " 'X-averaged lithium plating concentration [mol.m-3]',\n",
              " 'Lithium plating thickness',\n",
              " 'Lithium plating thickness [m]',\n",
              " 'X-averaged lithium plating thickness [m]',\n",
              " 'Loss of lithium to lithium plating [mol]',\n",
              " 'Loss of capacity to lithium plating [A.h]',\n",
              " 'Lithium plating interfacial current density',\n",
              " 'Lithium plating interfacial current density [A.m-2]',\n",
              " 'X-averaged lithium plating interfacial current density',\n",
              " 'X-averaged lithium plating interfacial current density [A.m-2]',\n",
              " 'Electrolyte tortuosity',\n",
              " 'Positive electrolyte tortuosity',\n",
              " 'X-averaged positive electrolyte tortuosity',\n",
              " 'Negative electrolyte tortuosity',\n",
              " 'X-averaged negative electrolyte tortuosity',\n",
              " 'Separator tortuosity',\n",
              " 'X-averaged separator tortuosity',\n",
              " 'Electrode tortuosity',\n",
              " 'Positive electrode tortuosity',\n",
              " 'X-averaged positive electrode tortuosity',\n",
              " 'Negative electrode tortuosity',\n",
              " 'X-averaged negative electrode tortuosity',\n",
              " 'Separator volume-averaged velocity',\n",
              " 'Separator volume-averaged velocity [m.s-1]',\n",
              " 'Separator volume-averaged acceleration',\n",
              " 'Separator volume-averaged acceleration [m.s-1]',\n",
              " 'X-averaged separator volume-averaged acceleration',\n",
              " 'X-averaged separator volume-averaged acceleration [m.s-1]',\n",
              " 'Volume-averaged velocity',\n",
              " 'Volume-averaged velocity [m.s-1]',\n",
              " 'Volume-averaged acceleration',\n",
              " 'X-averaged volume-averaged acceleration',\n",
              " 'Volume-averaged acceleration [m.s-1]',\n",
              " 'X-averaged volume-averaged acceleration [m.s-1]',\n",
              " 'Pressure',\n",
              " 'Negative particle flux',\n",
              " 'X-averaged negative particle flux',\n",
              " 'Negative effective diffusivity',\n",
              " 'Negative effective diffusivity [m2.s-1]',\n",
              " 'X-averaged negative effective diffusivity',\n",
              " 'X-averaged negative effective diffusivity [m2.s-1]',\n",
              " 'Negative electrode SOC',\n",
              " 'Negative electrode volume-averaged concentration',\n",
              " 'Negative electrode volume-averaged concentration [mol.m-3]',\n",
              " 'Total lithium in negative electrode [mol]',\n",
              " 'Positive particle flux',\n",
              " 'X-averaged positive particle flux',\n",
              " 'Positive effective diffusivity',\n",
              " 'Positive effective diffusivity [m2.s-1]',\n",
              " 'X-averaged positive effective diffusivity',\n",
              " 'X-averaged positive effective diffusivity [m2.s-1]',\n",
              " 'Positive electrode SOC',\n",
              " 'Positive electrode volume-averaged concentration',\n",
              " 'Positive electrode volume-averaged concentration [mol.m-3]',\n",
              " 'Total lithium in positive electrode [mol]',\n",
              " 'Negative electrode effective conductivity',\n",
              " 'Negative electrode current density',\n",
              " 'Negative electrode current density [A.m-2]',\n",
              " 'Positive electrode effective conductivity',\n",
              " 'Positive electrode current density',\n",
              " 'Positive electrode current density [A.m-2]',\n",
              " 'Electrode current density',\n",
              " 'Electrolyte concentration',\n",
              " 'Electrolyte concentration [mol.m-3]',\n",
              " 'Electrolyte concentration [Molar]',\n",
              " 'X-averaged electrolyte concentration',\n",
              " 'X-averaged electrolyte concentration [mol.m-3]',\n",
              " 'X-averaged electrolyte concentration [Molar]',\n",
              " 'Negative electrolyte concentration',\n",
              " 'Negative electrolyte concentration [mol.m-3]',\n",
              " 'Negative electrolyte concentration [Molar]',\n",
              " 'Separator electrolyte concentration',\n",
              " 'Separator electrolyte concentration [mol.m-3]',\n",
              " 'Separator electrolyte concentration [Molar]',\n",
              " 'Positive electrolyte concentration',\n",
              " 'Positive electrolyte concentration [mol.m-3]',\n",
              " 'Positive electrolyte concentration [Molar]',\n",
              " 'X-averaged negative electrolyte concentration',\n",
              " 'X-averaged negative electrolyte concentration [mol.m-3]',\n",
              " 'X-averaged separator electrolyte concentration',\n",
              " 'X-averaged separator electrolyte concentration [mol.m-3]',\n",
              " 'X-averaged positive electrolyte concentration',\n",
              " 'X-averaged positive electrolyte concentration [mol.m-3]',\n",
              " 'Electrolyte current density',\n",
              " 'Electrolyte current density [A.m-2]',\n",
              " 'X-averaged concentration overpotential',\n",
              " 'X-averaged electrolyte ohmic losses',\n",
              " 'X-averaged concentration overpotential [V]',\n",
              " 'X-averaged electrolyte ohmic losses [V]',\n",
              " 'Negative electrode surface potential difference',\n",
              " 'Negative electrode surface potential difference [V]',\n",
              " 'X-averaged negative electrode surface potential difference',\n",
              " 'X-averaged negative electrode surface potential difference [V]',\n",
              " 'Positive electrode surface potential difference',\n",
              " 'Positive electrode surface potential difference [V]',\n",
              " 'X-averaged positive electrode surface potential difference',\n",
              " 'X-averaged positive electrode surface potential difference [V]',\n",
              " 'Ohmic heating',\n",
              " 'Ohmic heating [W.m-3]',\n",
              " 'X-averaged Ohmic heating',\n",
              " 'X-averaged Ohmic heating [W.m-3]',\n",
              " 'Volume-averaged Ohmic heating',\n",
              " 'Volume-averaged Ohmic heating [W.m-3]',\n",
              " 'Irreversible electrochemical heating',\n",
              " 'Irreversible electrochemical heating [W.m-3]',\n",
              " 'X-averaged irreversible electrochemical heating',\n",
              " 'X-averaged irreversible electrochemical heating [W.m-3]',\n",
              " 'Volume-averaged irreversible electrochemical heating',\n",
              " 'Volume-averaged irreversible electrochemical heating[W.m-3]',\n",
              " 'Reversible heating',\n",
              " 'Reversible heating [W.m-3]',\n",
              " 'X-averaged reversible heating',\n",
              " 'X-averaged reversible heating [W.m-3]',\n",
              " 'Volume-averaged reversible heating',\n",
              " 'Volume-averaged reversible heating [W.m-3]',\n",
              " 'Total heating',\n",
              " 'Total heating [W.m-3]',\n",
              " 'X-averaged total heating',\n",
              " 'X-averaged total heating [W.m-3]',\n",
              " 'Volume-averaged total heating',\n",
              " 'Volume-averaged total heating [W.m-3]',\n",
              " 'Negative current collector potential',\n",
              " 'Negative current collector potential [V]',\n",
              " 'Current collector current density',\n",
              " 'Current collector current density [A.m-2]',\n",
              " 'Leading-order current collector current density',\n",
              " 'X-averaged negative electrode SEI interfacial current density',\n",
              " 'Negative electrode SEI interfacial current density',\n",
              " 'X-averaged positive electrode SEI interfacial current density',\n",
              " 'Positive electrode SEI interfacial current density',\n",
              " 'Negative electrode lithium plating reaction overpotential',\n",
              " 'X-averaged negative electrode lithium plating reaction overpotential',\n",
              " 'Negative electrode lithium plating reaction overpotential [V]',\n",
              " 'X-averaged negative electrode lithium plating reaction overpotential [V]',\n",
              " 'X-averaged negative electrode lithium plating interfacial current density',\n",
              " 'X-averaged positive electrode lithium plating interfacial current density',\n",
              " 'Negative electrode lithium plating interfacial current density',\n",
              " 'Positive electrode lithium plating interfacial current density',\n",
              " 'Negative electrode interfacial current density',\n",
              " 'X-averaged negative electrode interfacial current density',\n",
              " 'Negative electrode interfacial current density [A.m-2]',\n",
              " 'X-averaged negative electrode interfacial current density [A.m-2]',\n",
              " 'Negative electrode interfacial current density per volume [A.m-3]',\n",
              " 'X-averaged negative electrode interfacial current density per volume [A.m-3]',\n",
              " 'X-averaged negative electrode total interfacial current density',\n",
              " 'X-averaged negative electrode total interfacial current density [A.m-2]',\n",
              " 'X-averaged negative electrode total interfacial current density per volume [A.m-3]',\n",
              " 'Negative electrode exchange current density',\n",
              " 'X-averaged negative electrode exchange current density',\n",
              " 'Negative electrode exchange current density [A.m-2]',\n",
              " 'X-averaged negative electrode exchange current density [A.m-2]',\n",
              " 'Negative electrode exchange current density per volume [A.m-3]',\n",
              " 'X-averaged negative electrode exchange current density per volume [A.m-3]',\n",
              " 'Negative electrode reaction overpotential',\n",
              " 'X-averaged negative electrode reaction overpotential',\n",
              " 'Negative electrode reaction overpotential [V]',\n",
              " 'X-averaged negative electrode reaction overpotential [V]',\n",
              " 'Negative electrode open circuit potential',\n",
              " 'Negative electrode open circuit potential [V]',\n",
              " 'X-averaged negative electrode open circuit potential',\n",
              " 'X-averaged negative electrode open circuit potential [V]',\n",
              " 'Negative electrode entropic change',\n",
              " 'Negative electrode entropic change [V.K-1]',\n",
              " 'X-averaged negative electrode entropic change',\n",
              " 'X-averaged negative electrode entropic change [V.K-1]',\n",
              " 'SEI film overpotential',\n",
              " 'X-averaged SEI film overpotential',\n",
              " 'SEI film overpotential [V]',\n",
              " 'X-averaged SEI film overpotential [V]',\n",
              " 'Positive electrode interfacial current density',\n",
              " 'X-averaged positive electrode interfacial current density',\n",
              " 'Positive electrode interfacial current density [A.m-2]',\n",
              " 'X-averaged positive electrode interfacial current density [A.m-2]',\n",
              " 'Positive electrode interfacial current density per volume [A.m-3]',\n",
              " 'X-averaged positive electrode interfacial current density per volume [A.m-3]',\n",
              " 'X-averaged positive electrode total interfacial current density',\n",
              " 'X-averaged positive electrode total interfacial current density [A.m-2]',\n",
              " 'X-averaged positive electrode total interfacial current density per volume [A.m-3]',\n",
              " 'Positive electrode exchange current density',\n",
              " 'X-averaged positive electrode exchange current density',\n",
              " 'Positive electrode exchange current density [A.m-2]',\n",
              " 'X-averaged positive electrode exchange current density [A.m-2]',\n",
              " 'Positive electrode exchange current density per volume [A.m-3]',\n",
              " 'X-averaged positive electrode exchange current density per volume [A.m-3]',\n",
              " 'Positive electrode reaction overpotential',\n",
              " 'X-averaged positive electrode reaction overpotential',\n",
              " 'Positive electrode reaction overpotential [V]',\n",
              " 'X-averaged positive electrode reaction overpotential [V]',\n",
              " 'Positive electrode open circuit potential',\n",
              " 'Positive electrode open circuit potential [V]',\n",
              " 'X-averaged positive electrode open circuit potential',\n",
              " 'X-averaged positive electrode open circuit potential [V]',\n",
              " 'Positive electrode entropic change',\n",
              " 'Positive electrode entropic change [V.K-1]',\n",
              " 'X-averaged positive electrode entropic change',\n",
              " 'X-averaged positive electrode entropic change [V.K-1]',\n",
              " 'Interfacial current density',\n",
              " 'Interfacial current density [A.m-2]',\n",
              " 'Interfacial current density per volume [A.m-3]',\n",
              " 'Exchange current density',\n",
              " 'Exchange current density [A.m-2]',\n",
              " 'Exchange current density per volume [A.m-3]',\n",
              " 'Negative electrode oxygen interfacial current density',\n",
              " 'X-averaged negative electrode oxygen interfacial current density',\n",
              " 'Negative electrode oxygen interfacial current density [A.m-2]',\n",
              " 'X-averaged negative electrode oxygen interfacial current density [A.m-2]',\n",
              " 'Negative electrode oxygen interfacial current density per volume [A.m-3]',\n",
              " 'X-averaged negative electrode oxygen interfacial current density per volume [A.m-3]',\n",
              " 'Negative electrode oxygen exchange current density',\n",
              " 'X-averaged negative electrode oxygen exchange current density',\n",
              " 'Negative electrode oxygen exchange current density [A.m-2]',\n",
              " 'X-averaged negative electrode oxygen exchange current density [A.m-2]',\n",
              " 'Negative electrode oxygen exchange current density per volume [A.m-3]',\n",
              " 'X-averaged negative electrode oxygen exchange current density per volume [A.m-3]',\n",
              " 'Negative electrode oxygen reaction overpotential',\n",
              " 'X-averaged negative electrode oxygen reaction overpotential',\n",
              " 'Negative electrode oxygen reaction overpotential [V]',\n",
              " 'X-averaged negative electrode oxygen reaction overpotential [V]',\n",
              " 'Negative electrode oxygen open circuit potential',\n",
              " 'Negative electrode oxygen open circuit potential [V]',\n",
              " 'X-averaged negative electrode oxygen open circuit potential',\n",
              " 'X-averaged negative electrode oxygen open circuit potential [V]',\n",
              " 'Positive electrode oxygen interfacial current density',\n",
              " 'X-averaged positive electrode oxygen interfacial current density',\n",
              " 'Positive electrode oxygen interfacial current density [A.m-2]',\n",
              " 'X-averaged positive electrode oxygen interfacial current density [A.m-2]',\n",
              " 'Positive electrode oxygen interfacial current density per volume [A.m-3]',\n",
              " 'X-averaged positive electrode oxygen interfacial current density per volume [A.m-3]',\n",
              " 'Positive electrode oxygen exchange current density',\n",
              " 'X-averaged positive electrode oxygen exchange current density',\n",
              " 'Positive electrode oxygen exchange current density [A.m-2]',\n",
              " 'X-averaged positive electrode oxygen exchange current density [A.m-2]',\n",
              " 'Positive electrode oxygen exchange current density per volume [A.m-3]',\n",
              " 'X-averaged positive electrode oxygen exchange current density per volume [A.m-3]',\n",
              " 'Positive electrode oxygen reaction overpotential',\n",
              " 'X-averaged positive electrode oxygen reaction overpotential',\n",
              " 'Positive electrode oxygen reaction overpotential [V]',\n",
              " 'X-averaged positive electrode oxygen reaction overpotential [V]',\n",
              " 'Positive electrode oxygen open circuit potential',\n",
              " 'Positive electrode oxygen open circuit potential [V]',\n",
              " 'X-averaged positive electrode oxygen open circuit potential',\n",
              " 'X-averaged positive electrode oxygen open circuit potential [V]',\n",
              " 'Oxygen interfacial current density',\n",
              " 'Oxygen interfacial current density [A.m-2]',\n",
              " 'Oxygen interfacial current density per volume [A.m-3]',\n",
              " 'Oxygen exchange current density',\n",
              " 'Oxygen exchange current density [A.m-2]',\n",
              " 'Oxygen exchange current density per volume [A.m-3]',\n",
              " 'Positive current collector potential',\n",
              " 'Positive current collector potential [V]',\n",
              " 'Local voltage',\n",
              " 'Local voltage [V]',\n",
              " 'Terminal voltage',\n",
              " 'Terminal voltage [V]',\n",
              " 'Electrolyte flux',\n",
              " 'Electrolyte flux [mol.m-2.s-1]',\n",
              " 'Total lithium in electrolyte',\n",
              " 'Total lithium in electrolyte [mol]',\n",
              " 'X-averaged open circuit voltage',\n",
              " 'Measured open circuit voltage',\n",
              " 'X-averaged open circuit voltage [V]',\n",
              " 'Measured open circuit voltage [V]',\n",
              " 'X-averaged reaction overpotential',\n",
              " 'X-averaged reaction overpotential [V]',\n",
              " 'X-averaged solid phase ohmic losses',\n",
              " 'X-averaged solid phase ohmic losses [V]',\n",
              " 'X-averaged battery open circuit voltage [V]',\n",
              " 'Measured battery open circuit voltage [V]',\n",
              " 'X-averaged battery reaction overpotential [V]',\n",
              " 'X-averaged battery solid phase ohmic losses [V]',\n",
              " 'X-averaged battery electrolyte ohmic losses [V]',\n",
              " 'X-averaged battery concentration overpotential [V]',\n",
              " 'Battery voltage [V]',\n",
              " 'Change in measured open circuit voltage',\n",
              " 'Change in measured open circuit voltage [V]',\n",
              " 'Local ECM resistance',\n",
              " 'Local ECM resistance [Ohm]',\n",
              " 'Terminal power [W]',\n",
              " 'LAM_ne [%]',\n",
              " 'LAM_pe [%]',\n",
              " 'LLI [%]',\n",
              " 'Loss of active material in negative electrode [%]',\n",
              " 'Loss of active material in positive electrode [%]',\n",
              " 'Loss of lithium inventory [%]',\n",
              " 'Loss of lithium inventory, including electrolyte [%]',\n",
              " 'Total lithium [mol]',\n",
              " 'Total lithium in particles [mol]',\n",
              " 'Total lithium lost [mol]',\n",
              " 'Total lithium lost from particles [mol]',\n",
              " 'Total lithium lost from electrolyte [mol]',\n",
              " 'Total lithium lost to side reactions [mol]',\n",
              " 'Total capacity lost to side reactions [A.h]']"
            ]
          },
          "metadata": {},
          "execution_count": 4
        }
      ],
      "source": [
        "model_dfn.variable_names()"
      ]
    },
    {
      "cell_type": "markdown",
      "metadata": {
        "id": "9dCh5ID5fziI"
      },
      "source": [
        "There are a _lot_ of variables. You can also search the list of variables for a particular string (e.g. \"electrolyte\")"
      ]
    },
    {
      "cell_type": "code",
      "execution_count": 5,
      "metadata": {
        "id": "BII8x-w_fziI",
        "outputId": "abebdd78-2870-4c14-c6cd-bf0d6d3eee55",
        "colab": {
          "base_uri": "https://localhost:8080/"
        }
      },
      "outputs": [
        {
          "output_type": "stream",
          "name": "stdout",
          "text": [
            "Electrolyte concentration\n",
            "Electrolyte concentration [Molar]\n",
            "Electrolyte concentration [mol.m-3]\n",
            "Electrolyte current density\n",
            "Electrolyte current density [A.m-2]\n",
            "Electrolyte flux\n",
            "Electrolyte flux [mol.m-2.s-1]\n",
            "Electrolyte potential\n",
            "Electrolyte potential [V]\n",
            "Electrolyte tortuosity\n",
            "Gradient of electrolyte potential\n",
            "Gradient of negative electrolyte potential\n",
            "Gradient of positive electrolyte potential\n",
            "Gradient of separator electrolyte potential\n",
            "Loss of lithium inventory, including electrolyte [%]\n",
            "Negative electrolyte concentration\n",
            "Negative electrolyte concentration [Molar]\n",
            "Negative electrolyte concentration [mol.m-3]\n",
            "Negative electrolyte potential\n",
            "Negative electrolyte potential [V]\n",
            "Negative electrolyte tortuosity\n",
            "Positive electrolyte concentration\n",
            "Positive electrolyte concentration [Molar]\n",
            "Positive electrolyte concentration [mol.m-3]\n",
            "Positive electrolyte potential\n",
            "Positive electrolyte potential [V]\n",
            "Positive electrolyte tortuosity\n",
            "Separator electrolyte concentration\n",
            "Separator electrolyte concentration [Molar]\n",
            "Separator electrolyte concentration [mol.m-3]\n",
            "Separator electrolyte potential\n",
            "Separator electrolyte potential [V]\n",
            "Sum of electrolyte reaction source terms\n",
            "Sum of negative electrode electrolyte reaction source terms\n",
            "Sum of positive electrode electrolyte reaction source terms\n",
            "Sum of x-averaged negative electrode electrolyte reaction source terms\n",
            "Sum of x-averaged positive electrode electrolyte reaction source terms\n",
            "Total lithium in electrolyte\n",
            "Total lithium in electrolyte [mol]\n",
            "Total lithium lost from electrolyte [mol]\n",
            "X-averaged battery electrolyte ohmic losses [V]\n",
            "X-averaged electrolyte concentration\n",
            "X-averaged electrolyte concentration [Molar]\n",
            "X-averaged electrolyte concentration [mol.m-3]\n",
            "X-averaged electrolyte ohmic losses\n",
            "X-averaged electrolyte ohmic losses [V]\n",
            "X-averaged electrolyte overpotential\n",
            "X-averaged electrolyte overpotential [V]\n",
            "X-averaged electrolyte potential\n",
            "X-averaged electrolyte potential [V]\n",
            "X-averaged negative electrolyte concentration\n",
            "X-averaged negative electrolyte concentration [mol.m-3]\n",
            "X-averaged negative electrolyte potential\n",
            "X-averaged negative electrolyte potential [V]\n",
            "X-averaged negative electrolyte tortuosity\n",
            "X-averaged positive electrolyte concentration\n",
            "X-averaged positive electrolyte concentration [mol.m-3]\n",
            "X-averaged positive electrolyte potential\n",
            "X-averaged positive electrolyte potential [V]\n",
            "X-averaged positive electrolyte tortuosity\n",
            "X-averaged separator electrolyte concentration\n",
            "X-averaged separator electrolyte concentration [mol.m-3]\n",
            "X-averaged separator electrolyte potential\n",
            "X-averaged separator electrolyte potential [V]\n"
          ]
        }
      ],
      "source": [
        "model_dfn.variables.search(\"electrolyte\")"
      ]
    },
    {
      "cell_type": "markdown",
      "metadata": {
        "id": "2GkN0TTMfziJ"
      },
      "source": [
        "We have tried to make variables names fairly self explanatory. However, there are two variables for most quantities. This is because PyBaMM utilises both dimensionless and dimensional variables for these quantities. As a rule, the dimensionless variables have no units in their name and the dimensional variables have units in their name. If in doubt, we recommend using the dimensional variable with units."
      ]
    },
    {
      "cell_type": "markdown",
      "metadata": {
        "id": "zYCOKi8LfziJ"
      },
      "source": [
        "As a first example, we choose to plot the terminal voltage. We add this to a list and then pass this list to the `plot` method of our simulation:"
      ]
    },
    {
      "cell_type": "code",
      "execution_count": 6,
      "metadata": {
        "id": "Ka7G7r95fziK",
        "outputId": "2c565099-5153-44d8-9902-5237fb3856a4",
        "colab": {
          "base_uri": "https://localhost:8080/",
          "height": 346,
          "referenced_widgets": [
            "f60d8157c6d445bd835c8baf661a23a9",
            "de4aa459ead84d1bb61c86d6bcec9c6a",
            "860787472f794742909f6831f195e607",
            "b4237874c66c4927a6b197a0f90abc2a",
            "ce74e9d51ed949d486f5bdae74068c39",
            "6af1f98c3d9c45b9ad6628cf363ecdcf",
            "ed4eeb24e0ca4c89a78ddaa10caf5e17"
          ]
        }
      },
      "outputs": [
        {
          "output_type": "display_data",
          "data": {
            "application/vnd.jupyter.widget-view+json": {
              "model_id": "f60d8157c6d445bd835c8baf661a23a9",
              "version_minor": 0,
              "version_major": 2
            },
            "text/plain": [
              "interactive(children=(FloatSlider(value=0.0, description='t', max=1.0, step=0.01), Output()), _dom_classes=('w…"
            ]
          },
          "metadata": {}
        },
        {
          "output_type": "execute_result",
          "data": {
            "text/plain": [
              "<pybamm.plotting.quick_plot.QuickPlot at 0x7fb990fbcd10>"
            ]
          },
          "metadata": {},
          "execution_count": 6
        }
      ],
      "source": [
        "output_variables = [\"Terminal voltage [V]\"]\n",
        "sim_dfn.plot(output_variables=output_variables)"
      ]
    },
    {
      "cell_type": "markdown",
      "metadata": {
        "id": "khJj0TbYfziK"
      },
      "source": [
        "Alternatively, we may be interested in plotting both the electrolyte concentration and the terminal voltage. In which case, we would do:"
      ]
    },
    {
      "cell_type": "code",
      "execution_count": 8,
      "metadata": {
        "id": "xXBOXtFvfziL",
        "outputId": "5d3377ea-dbb8-47a2-e5d1-5ca316ce4540",
        "colab": {
          "base_uri": "https://localhost:8080/",
          "height": 562,
          "referenced_widgets": [
            "1fb51b18deb24f5485308adbea6abbb4",
            "6e9b10df81544692bf9e1fac78837605",
            "f34bd59ca5274c9e9befc23b6b1cc214",
            "c0015603f02148c0b22d07c9e4577ea2",
            "737564088a86420b9ccb5244d849cd3e",
            "1e84d1c3fb9242ebb2d9efc704f90f98",
            "a156c81c531a40069a043d963a2951b2"
          ]
        }
      },
      "outputs": [
        {
          "output_type": "display_data",
          "data": {
            "application/vnd.jupyter.widget-view+json": {
              "model_id": "1fb51b18deb24f5485308adbea6abbb4",
              "version_minor": 0,
              "version_major": 2
            },
            "text/plain": [
              "interactive(children=(FloatSlider(value=0.0, description='t', max=1.0, step=0.01), Output()), _dom_classes=('w…"
            ]
          },
          "metadata": {}
        },
        {
          "output_type": "execute_result",
          "data": {
            "text/plain": [
              "<pybamm.plotting.quick_plot.QuickPlot at 0x7fb98dce8e90>"
            ]
          },
          "metadata": {},
          "execution_count": 8
        }
      ],
      "source": [
        "output_variables = [\"Electrolyte concentration [mol.m-3]\", \"Terminal voltage [V]\",'Current [A]','C-rate',]\n",
        "sim_dfn.plot(output_variables=output_variables)"
      ]
    },
    {
      "cell_type": "markdown",
      "metadata": {
        "id": "MWBv61G_fziL"
      },
      "source": [
        "You can also plot multiple variables on the same plot by nesting lists"
      ]
    },
    {
      "cell_type": "code",
      "execution_count": 9,
      "metadata": {
        "id": "ZEtPJjxLfziL",
        "outputId": "3d53bd68-b829-4114-f4fb-cd3bf7924078",
        "colab": {
          "base_uri": "https://localhost:8080/",
          "height": 346,
          "referenced_widgets": [
            "94978034c32c4cb29cdfe44e7e19a2d8",
            "30eac08b647244d8937cc74114bd0d28",
            "26dd0730ee184a5c920e7e01e109b4e2",
            "8938bd7906eb4bdead3bbf6ff4d26bb4",
            "f94a5ef5970a48bf965cdc8d0c5aa53d",
            "c3b47d93514843fb8804c0dbcd37de91",
            "7ab0b9892298473cad7ffa83ab8263c5"
          ]
        }
      },
      "outputs": [
        {
          "output_type": "display_data",
          "data": {
            "application/vnd.jupyter.widget-view+json": {
              "model_id": "94978034c32c4cb29cdfe44e7e19a2d8",
              "version_minor": 0,
              "version_major": 2
            },
            "text/plain": [
              "interactive(children=(FloatSlider(value=0.0, description='t', max=1.0, step=0.01), Output()), _dom_classes=('w…"
            ]
          },
          "metadata": {}
        },
        {
          "output_type": "execute_result",
          "data": {
            "text/plain": [
              "<pybamm.plotting.quick_plot.QuickPlot at 0x7fb98db68910>"
            ]
          },
          "metadata": {},
          "execution_count": 9
        }
      ],
      "source": [
        "sim_dfn.plot([[\"Electrode current density\", \"Electrolyte current density\"], \"Terminal voltage [V]\"])"
      ]
    },
    {
      "cell_type": "code",
      "execution_count": 10,
      "metadata": {
        "id": "vKFqcClBfziM",
        "outputId": "6af6cc7d-ea18-469b-bf9d-f9ddf468454c",
        "colab": {
          "base_uri": "https://localhost:8080/",
          "height": 562,
          "referenced_widgets": [
            "0856a5099e5c4fe2a32e994715b16f8a",
            "1753699ac8d14777ae056db2348a1aac",
            "890de2a3a9c4454095586be297ab54e5",
            "bf027e2c478d43fea3e7c05a3618cdaf",
            "534c9d2c991d4247b0136963772ed7e7",
            "617356baa3a54819893365723e8ffe34",
            "2a32515122ab4b729ee4275171faf1ab"
          ]
        }
      },
      "outputs": [
        {
          "output_type": "display_data",
          "data": {
            "application/vnd.jupyter.widget-view+json": {
              "model_id": "0856a5099e5c4fe2a32e994715b16f8a",
              "version_minor": 0,
              "version_major": 2
            },
            "text/plain": [
              "interactive(children=(FloatSlider(value=0.0, description='t', max=1.0, step=0.01), Output()), _dom_classes=('w…"
            ]
          },
          "metadata": {}
        },
        {
          "output_type": "execute_result",
          "data": {
            "text/plain": [
              "<pybamm.plotting.quick_plot.QuickPlot at 0x7fb98daa9950>"
            ]
          },
          "metadata": {},
          "execution_count": 10
        }
      ],
      "source": [
        "sim_dfn.plot()"
      ]
    },
    {
      "cell_type": "markdown",
      "metadata": {
        "id": "5iB6FrUMfziM"
      },
      "source": [
        "For plotting the voltage components you can use the `plot_votage_components` function"
      ]
    },
    {
      "cell_type": "code",
      "execution_count": 11,
      "metadata": {
        "id": "oLJ2W8hwfziM",
        "outputId": "15e630ce-fdf2-436a-e060-9c008b5fbd82",
        "colab": {
          "base_uri": "https://localhost:8080/",
          "height": 296
        }
      },
      "outputs": [
        {
          "output_type": "display_data",
          "data": {
            "image/png": "[encoded data removed]",
            "text/plain": [
              "<Figure size 432x288 with 1 Axes>"
            ]
          },
          "metadata": {
            "needs_background": "light"
          }
        },
        {
          "output_type": "execute_result",
          "data": {
            "text/plain": [
              "<matplotlib.axes._subplots.AxesSubplot at 0x7fb98dab6850>"
            ]
          },
          "metadata": {},
          "execution_count": 11
        }
      ],
      "source": [
        "pybamm.plot_voltage_components(sim_dfn.solution)"
      ]
    },
    {
      "cell_type": "markdown",
      "metadata": {
        "id": "qeygKdWYfziN"
      },
      "source": [
        "And with a few modifications (by creating subplots and by providing the axes on which the voltage components have to be plotted), it can also be used to compare the voltage components of different simulations"
      ]
    },
    {
      "cell_type": "code",
      "execution_count": 12,
      "metadata": {
        "id": "jLvIgwRFfziN",
        "outputId": "14fc5329-5615-4a73-8347-c353a269f549",
        "colab": {
          "base_uri": "https://localhost:8080/",
          "height": 404
        }
      },
      "outputs": [
        {
          "output_type": "display_data",
          "data": {
            "image/png": "[encoded data removed]",
            "text/plain": [
              "<Figure size 1080x432 with 2 Axes>"
            ]
          },
          "metadata": {
            "needs_background": "light"
          }
        }
      ],
      "source": [
        "# simulating and solving Single Particle Model\n",
        "model_spm = pybamm.lithium_ion.SPM()\n",
        "sim_spm = pybamm.Simulation(model_spm)\n",
        "sim_spm.solve([0, 3700])\n",
        "\n",
        "# comparing voltage components for Doyle-Fuller-Newman model and Single Particle Model\n",
        "fig, axes = plt.subplots(1, 2, figsize=(15, 6), sharey=True)\n",
        "\n",
        "pybamm.plot_voltage_components(sim_dfn.solution, ax=axes.flat[0])\n",
        "pybamm.plot_voltage_components(sim_spm.solution, ax=axes.flat[1])\n",
        "\n",
        "axes.flat[0].set_title(\"Doyle-Fuller-Newman Model\")\n",
        "axes.flat[1].set_title(\"Single Particle Model\")\n",
        "\n",
        "plt.show()"
      ]
    },
    {
      "cell_type": "markdown",
      "metadata": {
        "id": "uVvubWLGfziN"
      },
      "source": [
        "In this tutorial we have seen how to use the plotting functionality in PyBaMM.\n",
        "\n",
        "In [Tutorial 4](./Tutorial%204%20-%20Setting%20parameter%20values.ipynb) we show how to change parameter values."
      ]
    },
    {
      "cell_type": "markdown",
      "metadata": {
        "id": "isA7Y_-HfziO"
      },
      "source": [
        "## References\n",
        "\n",
        "The relevant papers for this notebook are:"
      ]
    },
    {
      "cell_type": "code",
      "execution_count": 13,
      "metadata": {
        "id": "7h8dQX7tfziO",
        "outputId": "912ba611-93b9-4b6c-cd95-06e5cfd55253",
        "colab": {
          "base_uri": "https://localhost:8080/",
          "height": 311
        }
      },
      "outputs": [
        {
          "output_type": "error",
          "ename": "PluginNotFound",
          "evalue": "ignored",
          "traceback": [
            "\u001b[0;31m---------------------------------------------------------------------------\u001b[0m",
            "\u001b[0;31mPluginNotFound\u001b[0m                            Traceback (most recent call last)",
            "\u001b[0;32m<ipython-input-13-e8d18fc260ed>\u001b[0m in \u001b[0;36m<module>\u001b[0;34m()\u001b[0m\n\u001b[0;32m----> 1\u001b[0;31m \u001b[0mpybamm\u001b[0m\u001b[0;34m.\u001b[0m\u001b[0mprint_citations\u001b[0m\u001b[0;34m(\u001b[0m\u001b[0;34m)\u001b[0m\u001b[0;34m\u001b[0m\u001b[0;34m\u001b[0m\u001b[0m\n\u001b[0m",
            "\u001b[0;32m/usr/local/lib/python3.7/dist-packages/pybamm/citations.py\u001b[0m in \u001b[0;36mprint_citations\u001b[0;34m(filename, output_format)\u001b[0m\n\u001b[1;32m    113\u001b[0m \u001b[0;32mdef\u001b[0m \u001b[0mprint_citations\u001b[0m\u001b[0;34m(\u001b[0m\u001b[0mfilename\u001b[0m\u001b[0;34m=\u001b[0m\u001b[0;32mNone\u001b[0m\u001b[0;34m,\u001b[0m \u001b[0moutput_format\u001b[0m\u001b[0;34m=\u001b[0m\u001b[0;34m\"text\"\u001b[0m\u001b[0;34m)\u001b[0m\u001b[0;34m:\u001b[0m\u001b[0;34m\u001b[0m\u001b[0;34m\u001b[0m\u001b[0m\n\u001b[1;32m    114\u001b[0m     \u001b[0;34m\"\"\" See :meth:`Citations.print` \"\"\"\u001b[0m\u001b[0;34m\u001b[0m\u001b[0;34m\u001b[0m\u001b[0m\n\u001b[0;32m--> 115\u001b[0;31m     \u001b[0mpybamm\u001b[0m\u001b[0;34m.\u001b[0m\u001b[0mcitations\u001b[0m\u001b[0;34m.\u001b[0m\u001b[0mprint\u001b[0m\u001b[0;34m(\u001b[0m\u001b[0mfilename\u001b[0m\u001b[0;34m,\u001b[0m \u001b[0moutput_format\u001b[0m\u001b[0;34m)\u001b[0m\u001b[0;34m\u001b[0m\u001b[0;34m\u001b[0m\u001b[0m\n\u001b[0m\u001b[1;32m    116\u001b[0m \u001b[0;34m\u001b[0m\u001b[0m\n\u001b[1;32m    117\u001b[0m \u001b[0;34m\u001b[0m\u001b[0m\n",
            "\u001b[0;32m/usr/local/lib/python3.7/dist-packages/pybamm/citations.py\u001b[0m in \u001b[0;36mprint\u001b[0;34m(self, filename, output_format)\u001b[0m\n\u001b[1;32m     93\u001b[0m                 \u001b[0;34m\"plain\"\u001b[0m\u001b[0;34m,\u001b[0m\u001b[0;34m\u001b[0m\u001b[0;34m\u001b[0m\u001b[0m\n\u001b[1;32m     94\u001b[0m                 \u001b[0mcitations\u001b[0m\u001b[0;34m=\u001b[0m\u001b[0mself\u001b[0m\u001b[0;34m.\u001b[0m\u001b[0m_papers_to_cite\u001b[0m\u001b[0;34m,\u001b[0m\u001b[0;34m\u001b[0m\u001b[0;34m\u001b[0m\u001b[0m\n\u001b[0;32m---> 95\u001b[0;31m                 \u001b[0moutput_backend\u001b[0m\u001b[0;34m=\u001b[0m\u001b[0;34m\"plaintext\"\u001b[0m\u001b[0;34m,\u001b[0m\u001b[0;34m\u001b[0m\u001b[0;34m\u001b[0m\u001b[0m\n\u001b[0m\u001b[1;32m     96\u001b[0m             )\n\u001b[1;32m     97\u001b[0m         \u001b[0;32melif\u001b[0m \u001b[0moutput_format\u001b[0m \u001b[0;34m==\u001b[0m \u001b[0;34m\"bibtex\"\u001b[0m\u001b[0;34m:\u001b[0m\u001b[0;34m\u001b[0m\u001b[0;34m\u001b[0m\u001b[0m\n",
            "\u001b[0;32m/usr/local/lib/python3.7/dist-packages/pybtex/__init__.py\u001b[0m in \u001b[0;36mformat_from_file\u001b[0;34m(*args, **kwargs)\u001b[0m\n\u001b[1;32m    180\u001b[0m \u001b[0;32mdef\u001b[0m \u001b[0mformat_from_file\u001b[0m\u001b[0;34m(\u001b[0m\u001b[0;34m*\u001b[0m\u001b[0margs\u001b[0m\u001b[0;34m,\u001b[0m \u001b[0;34m**\u001b[0m\u001b[0mkwargs\u001b[0m\u001b[0;34m)\u001b[0m\u001b[0;34m:\u001b[0m\u001b[0;34m\u001b[0m\u001b[0;34m\u001b[0m\u001b[0m\n\u001b[1;32m    181\u001b[0m     \u001b[0;34m\"\"\"A convenience function that calls :py:meth:`.PybtexEngine.format_from_file`.\"\"\"\u001b[0m\u001b[0;34m\u001b[0m\u001b[0;34m\u001b[0m\u001b[0m\n\u001b[0;32m--> 182\u001b[0;31m     \u001b[0;32mreturn\u001b[0m \u001b[0mPybtexEngine\u001b[0m\u001b[0;34m(\u001b[0m\u001b[0;34m)\u001b[0m\u001b[0;34m.\u001b[0m\u001b[0mformat_from_file\u001b[0m\u001b[0;34m(\u001b[0m\u001b[0;34m*\u001b[0m\u001b[0margs\u001b[0m\u001b[0;34m,\u001b[0m \u001b[0;34m**\u001b[0m\u001b[0mkwargs\u001b[0m\u001b[0;34m)\u001b[0m\u001b[0;34m\u001b[0m\u001b[0;34m\u001b[0m\u001b[0m\n\u001b[0m\u001b[1;32m    183\u001b[0m \u001b[0;34m\u001b[0m\u001b[0m\n\u001b[1;32m    184\u001b[0m \u001b[0;34m\u001b[0m\u001b[0m\n",
            "\u001b[0;32m/usr/local/lib/python3.7/dist-packages/pybtex/__init__.py\u001b[0m in \u001b[0;36mformat_from_file\u001b[0;34m(self, filename, *args, **kwargs)\u001b[0m\n\u001b[1;32m     90\u001b[0m         \u001b[0;34m:\u001b[0m\u001b[0mpy\u001b[0m\u001b[0;34m:\u001b[0m\u001b[0mmeth\u001b[0m\u001b[0;34m:\u001b[0m\u001b[0;31m`\u001b[0m\u001b[0;34m~\u001b[0m\u001b[0;34m.\u001b[0m\u001b[0mEngine\u001b[0m\u001b[0;34m.\u001b[0m\u001b[0mformat_from_files\u001b[0m\u001b[0;31m`\u001b[0m\u001b[0;34m.\u001b[0m\u001b[0;34m\u001b[0m\u001b[0;34m\u001b[0m\u001b[0m\n\u001b[1;32m     91\u001b[0m         \"\"\"\n\u001b[0;32m---> 92\u001b[0;31m         \u001b[0;32mreturn\u001b[0m \u001b[0mself\u001b[0m\u001b[0;34m.\u001b[0m\u001b[0mformat_from_files\u001b[0m\u001b[0;34m(\u001b[0m\u001b[0;34m[\u001b[0m\u001b[0mfilename\u001b[0m\u001b[0;34m]\u001b[0m\u001b[0;34m,\u001b[0m \u001b[0;34m*\u001b[0m\u001b[0margs\u001b[0m\u001b[0;34m,\u001b[0m \u001b[0;34m**\u001b[0m\u001b[0mkwargs\u001b[0m\u001b[0;34m)\u001b[0m\u001b[0;34m\u001b[0m\u001b[0;34m\u001b[0m\u001b[0m\n\u001b[0m\u001b[1;32m     93\u001b[0m \u001b[0;34m\u001b[0m\u001b[0m\n\u001b[1;32m     94\u001b[0m     \u001b[0;32mdef\u001b[0m \u001b[0mformat_from_files\u001b[0m\u001b[0;34m(\u001b[0m\u001b[0;34m*\u001b[0m\u001b[0margs\u001b[0m\u001b[0;34m,\u001b[0m \u001b[0;34m**\u001b[0m\u001b[0mkwargs\u001b[0m\u001b[0;34m)\u001b[0m\u001b[0;34m:\u001b[0m\u001b[0;34m\u001b[0m\u001b[0;34m\u001b[0m\u001b[0m\n",
            "\u001b[0;32m/usr/local/lib/python3.7/dist-packages/pybtex/__init__.py\u001b[0m in \u001b[0;36mformat_from_files\u001b[0;34m(self, bib_files_or_filenames, style, citations, bib_format, bib_encoding, output_backend, output_encoding, min_crossrefs, output_filename, add_output_suffix, **kwargs)\u001b[0m\n\u001b[1;32m    147\u001b[0m         \u001b[0;32mfrom\u001b[0m \u001b[0mpybtex\u001b[0m\u001b[0;34m.\u001b[0m\u001b[0mplugin\u001b[0m \u001b[0;32mimport\u001b[0m \u001b[0mfind_plugin\u001b[0m\u001b[0;34m\u001b[0m\u001b[0;34m\u001b[0m\u001b[0m\n\u001b[1;32m    148\u001b[0m \u001b[0;34m\u001b[0m\u001b[0m\n\u001b[0;32m--> 149\u001b[0;31m         \u001b[0mbib_parser\u001b[0m \u001b[0;34m=\u001b[0m \u001b[0mfind_plugin\u001b[0m\u001b[0;34m(\u001b[0m\u001b[0;34m'pybtex.database.input'\u001b[0m\u001b[0;34m,\u001b[0m \u001b[0mbib_format\u001b[0m\u001b[0;34m)\u001b[0m\u001b[0;34m\u001b[0m\u001b[0;34m\u001b[0m\u001b[0m\n\u001b[0m\u001b[1;32m    150\u001b[0m         bib_data = bib_parser(\n\u001b[1;32m    151\u001b[0m             \u001b[0mencoding\u001b[0m\u001b[0;34m=\u001b[0m\u001b[0mbib_encoding\u001b[0m\u001b[0;34m,\u001b[0m\u001b[0;34m\u001b[0m\u001b[0;34m\u001b[0m\u001b[0m\n",
            "\u001b[0;32m/usr/local/lib/python3.7/dist-packages/pybtex/plugin/__init__.py\u001b[0m in \u001b[0;36mfind_plugin\u001b[0;34m(plugin_group, name, filename)\u001b[0m\n\u001b[1;32m    109\u001b[0m         \u001b[0;32mreturn\u001b[0m \u001b[0m_load_entry_point\u001b[0m\u001b[0;34m(\u001b[0m\u001b[0mplugin_group\u001b[0m \u001b[0;34m+\u001b[0m \u001b[0;34m'.suffixes'\u001b[0m\u001b[0;34m,\u001b[0m \u001b[0msuffix\u001b[0m\u001b[0;34m)\u001b[0m\u001b[0;34m\u001b[0m\u001b[0;34m\u001b[0m\u001b[0m\n\u001b[1;32m    110\u001b[0m     \u001b[0;32melse\u001b[0m\u001b[0;34m:\u001b[0m\u001b[0;34m\u001b[0m\u001b[0;34m\u001b[0m\u001b[0m\n\u001b[0;32m--> 111\u001b[0;31m         \u001b[0;32mreturn\u001b[0m \u001b[0m_load_entry_point\u001b[0m\u001b[0;34m(\u001b[0m\u001b[0mplugin_group\u001b[0m\u001b[0;34m,\u001b[0m \u001b[0m_DEFAULT_PLUGINS\u001b[0m\u001b[0;34m[\u001b[0m\u001b[0mplugin_group\u001b[0m\u001b[0;34m]\u001b[0m\u001b[0;34m)\u001b[0m\u001b[0;34m\u001b[0m\u001b[0;34m\u001b[0m\u001b[0m\n\u001b[0m\u001b[1;32m    112\u001b[0m \u001b[0;34m\u001b[0m\u001b[0m\n\u001b[1;32m    113\u001b[0m \u001b[0;34m\u001b[0m\u001b[0m\n",
            "\u001b[0;32m/usr/local/lib/python3.7/dist-packages/pybtex/plugin/__init__.py\u001b[0m in \u001b[0;36m_load_entry_point\u001b[0;34m(group, name, use_aliases)\u001b[0m\n\u001b[1;32m     79\u001b[0m         \u001b[0;32mfor\u001b[0m \u001b[0mentry_point\u001b[0m \u001b[0;32min\u001b[0m \u001b[0mpkg_resources\u001b[0m\u001b[0;34m.\u001b[0m\u001b[0miter_entry_points\u001b[0m\u001b[0;34m(\u001b[0m\u001b[0msearch_group\u001b[0m\u001b[0;34m,\u001b[0m \u001b[0mname\u001b[0m\u001b[0;34m)\u001b[0m\u001b[0;34m:\u001b[0m\u001b[0;34m\u001b[0m\u001b[0;34m\u001b[0m\u001b[0m\n\u001b[1;32m     80\u001b[0m             \u001b[0;32mreturn\u001b[0m \u001b[0mentry_point\u001b[0m\u001b[0;34m.\u001b[0m\u001b[0mload\u001b[0m\u001b[0;34m(\u001b[0m\u001b[0;34m)\u001b[0m\u001b[0;34m\u001b[0m\u001b[0;34m\u001b[0m\u001b[0m\n\u001b[0;32m---> 81\u001b[0;31m     \u001b[0;32mraise\u001b[0m \u001b[0mPluginNotFound\u001b[0m\u001b[0;34m(\u001b[0m\u001b[0mgroup\u001b[0m\u001b[0;34m,\u001b[0m \u001b[0mname\u001b[0m\u001b[0;34m)\u001b[0m\u001b[0;34m\u001b[0m\u001b[0;34m\u001b[0m\u001b[0m\n\u001b[0m\u001b[1;32m     82\u001b[0m \u001b[0;34m\u001b[0m\u001b[0m\n\u001b[1;32m     83\u001b[0m \u001b[0;34m\u001b[0m\u001b[0m\n",
            "\u001b[0;31mPluginNotFound\u001b[0m: plugin pybtex.database.input.bibtex not found"
          ]
        }
      ],
      "source": [
        "pybamm.print_citations()"
      ]
    },
    {
      "cell_type": "code",
      "source": [
        ""
      ],
      "metadata": {
        "id": "FsB-bVZDglnV"
      },
      "execution_count": null,
      "outputs": []
    }
  ],
  "metadata": {
    "kernelspec": {
      "display_name": "Python 3 (ipykernel)",
      "language": "python",
      "name": "python3"
    },
    "language_info": {
      "codemirror_mode": {
        "name": "ipython",
        "version": 3
      },
      "file_extension": ".py",
      "mimetype": "text/x-python",
      "name": "python",
      "nbconvert_exporter": "python",
      "pygments_lexer": "ipython3",
      "version": "3.9.0"
    },
    "colab": {
      "name": "Tutorial 3 - Basic plotting.ipynb",
      "provenance": []
    },
    "widgets": {
      "application/vnd.jupyter.widget-state+json": {
        "f60d8157c6d445bd835c8baf661a23a9": {
          "model_module": "@jupyter-widgets/controls",
          "model_name": "VBoxModel",
          "model_module_version": "1.5.0",
          "state": {
            "_view_name": "VBoxView",
            "_dom_classes": [
              "widget-interact"
            ],
            "_model_name": "VBoxModel",
            "_view_module": "@jupyter-widgets/controls",
            "_model_module_version": "1.5.0",
            "_view_count": null,
            "_view_module_version": "1.5.0",
            "box_style": "",
            "layout": "IPY_MODEL_de4aa459ead84d1bb61c86d6bcec9c6a",
            "_model_module": "@jupyter-widgets/controls",
            "children": [
              "IPY_MODEL_860787472f794742909f6831f195e607",
              "IPY_MODEL_b4237874c66c4927a6b197a0f90abc2a"
            ]
          }
        },
        "de4aa459ead84d1bb61c86d6bcec9c6a": {
          "model_module": "@jupyter-widgets/base",
          "model_name": "LayoutModel",
          "model_module_version": "1.2.0",
          "state": {
            "_view_name": "LayoutView",
            "grid_template_rows": null,
            "right": null,
            "justify_content": null,
            "_view_module": "@jupyter-widgets/base",
            "overflow": null,
            "_model_module_version": "1.2.0",
            "_view_count": null,
            "flex_flow": null,
            "width": null,
            "min_width": null,
            "border": null,
            "align_items": null,
            "bottom": null,
            "_model_module": "@jupyter-widgets/base",
            "top": null,
            "grid_column": null,
            "overflow_y": null,
            "overflow_x": null,
            "grid_auto_flow": null,
            "grid_area": null,
            "grid_template_columns": null,
            "flex": null,
            "_model_name": "LayoutModel",
            "justify_items": null,
            "grid_row": null,
            "max_height": null,
            "align_content": null,
            "visibility": null,
            "align_self": null,
            "height": null,
            "min_height": null,
            "padding": null,
            "grid_auto_rows": null,
            "grid_gap": null,
            "max_width": null,
            "order": null,
            "_view_module_version": "1.2.0",
            "grid_template_areas": null,
            "object_position": null,
            "object_fit": null,
            "grid_auto_columns": null,
            "margin": null,
            "display": null,
            "left": null
          }
        },
        "860787472f794742909f6831f195e607": {
          "model_module": "@jupyter-widgets/controls",
          "model_name": "FloatSliderModel",
          "model_module_version": "1.5.0",
          "state": {
            "_view_name": "FloatSliderView",
            "style": "IPY_MODEL_ce74e9d51ed949d486f5bdae74068c39",
            "_dom_classes": [],
            "description": "t",
            "step": 0.01,
            "_model_name": "FloatSliderModel",
            "orientation": "horizontal",
            "max": 1,
            "_view_module": "@jupyter-widgets/controls",
            "_model_module_version": "1.5.0",
            "value": 0.38,
            "_view_count": null,
            "disabled": false,
            "_view_module_version": "1.5.0",
            "min": 0,
            "continuous_update": true,
            "readout_format": ".2f",
            "description_tooltip": null,
            "readout": true,
            "_model_module": "@jupyter-widgets/controls",
            "layout": "IPY_MODEL_6af1f98c3d9c45b9ad6628cf363ecdcf"
          }
        },
        "b4237874c66c4927a6b197a0f90abc2a": {
          "model_module": "@jupyter-widgets/output",
          "model_name": "OutputModel",
          "model_module_version": "1.0.0",
          "state": {
            "_view_name": "OutputView",
            "msg_id": "",
            "_dom_classes": [],
            "_model_name": "OutputModel",
            "outputs": [
              {
                "output_type": "display_data",
                "data": {
                  "image/png": "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\n",
                  "text/plain": "<Figure size 288x288 with 1 Axes>"
                },
                "metadata": {
                  "needs_background": "light"
                }
              }
            ],
            "_view_module": "@jupyter-widgets/output",
            "_model_module_version": "1.0.0",
            "_view_count": null,
            "_view_module_version": "1.0.0",
            "layout": "IPY_MODEL_ed4eeb24e0ca4c89a78ddaa10caf5e17",
            "_model_module": "@jupyter-widgets/output"
          }
        },
        "ce74e9d51ed949d486f5bdae74068c39": {
          "model_module": "@jupyter-widgets/controls",
          "model_name": "SliderStyleModel",
          "model_module_version": "1.5.0",
          "state": {
            "_view_name": "StyleView",
            "handle_color": null,
            "_model_name": "SliderStyleModel",
            "description_width": "",
            "_view_module": "@jupyter-widgets/base",
            "_model_module_version": "1.5.0",
            "_view_count": null,
            "_view_module_version": "1.2.0",
            "_model_module": "@jupyter-widgets/controls"
          }
        },
        "6af1f98c3d9c45b9ad6628cf363ecdcf": {
          "model_module": "@jupyter-widgets/base",
          "model_name": "LayoutModel",
          "model_module_version": "1.2.0",
          "state": {
            "_view_name": "LayoutView",
            "grid_template_rows": null,
            "right": null,
            "justify_content": null,
            "_view_module": "@jupyter-widgets/base",
            "overflow": null,
            "_model_module_version": "1.2.0",
            "_view_count": null,
            "flex_flow": null,
            "width": null,
            "min_width": null,
            "border": null,
            "align_items": null,
            "bottom": null,
            "_model_module": "@jupyter-widgets/base",
            "top": null,
            "grid_column": null,
            "overflow_y": null,
            "overflow_x": null,
            "grid_auto_flow": null,
            "grid_area": null,
            "grid_template_columns": null,
            "flex": null,
            "_model_name": "LayoutModel",
            "justify_items": null,
            "grid_row": null,
            "max_height": null,
            "align_content": null,
            "visibility": null,
            "align_self": null,
            "height": null,
            "min_height": null,
            "padding": null,
            "grid_auto_rows": null,
            "grid_gap": null,
            "max_width": null,
            "order": null,
            "_view_module_version": "1.2.0",
            "grid_template_areas": null,
            "object_position": null,
            "object_fit": null,
            "grid_auto_columns": null,
            "margin": null,
            "display": null,
            "left": null
          }
        },
        "ed4eeb24e0ca4c89a78ddaa10caf5e17": {
          "model_module": "@jupyter-widgets/base",
          "model_name": "LayoutModel",
          "model_module_version": "1.2.0",
          "state": {
            "_view_name": "LayoutView",
            "grid_template_rows": null,
            "right": null,
            "justify_content": null,
            "_view_module": "@jupyter-widgets/base",
            "overflow": null,
            "_model_module_version": "1.2.0",
            "_view_count": null,
            "flex_flow": null,
            "width": null,
            "min_width": null,
            "border": null,
            "align_items": null,
            "bottom": null,
            "_model_module": "@jupyter-widgets/base",
            "top": null,
            "grid_column": null,
            "overflow_y": null,
            "overflow_x": null,
            "grid_auto_flow": null,
            "grid_area": null,
            "grid_template_columns": null,
            "flex": null,
            "_model_name": "LayoutModel",
            "justify_items": null,
            "grid_row": null,
            "max_height": null,
            "align_content": null,
            "visibility": null,
            "align_self": null,
            "height": null,
            "min_height": null,
            "padding": null,
            "grid_auto_rows": null,
            "grid_gap": null,
            "max_width": null,
            "order": null,
            "_view_module_version": "1.2.0",
            "grid_template_areas": null,
            "object_position": null,
            "object_fit": null,
            "grid_auto_columns": null,
            "margin": null,
            "display": null,
            "left": null
          }
        },
        "1fb51b18deb24f5485308adbea6abbb4": {
          "model_module": "@jupyter-widgets/controls",
          "model_name": "VBoxModel",
          "model_module_version": "1.5.0",
          "state": {
            "_view_name": "VBoxView",
            "_dom_classes": [
              "widget-interact"
            ],
            "_model_name": "VBoxModel",
            "_view_module": "@jupyter-widgets/controls",
            "_model_module_version": "1.5.0",
            "_view_count": null,
            "_view_module_version": "1.5.0",
            "box_style": "",
            "layout": "IPY_MODEL_6e9b10df81544692bf9e1fac78837605",
            "_model_module": "@jupyter-widgets/controls",
            "children": [
              "IPY_MODEL_f34bd59ca5274c9e9befc23b6b1cc214",
              "IPY_MODEL_c0015603f02148c0b22d07c9e4577ea2"
            ]
          }
        },
        "6e9b10df81544692bf9e1fac78837605": {
          "model_module": "@jupyter-widgets/base",
          "model_name": "LayoutModel",
          "model_module_version": "1.2.0",
          "state": {
            "_view_name": "LayoutView",
            "grid_template_rows": null,
            "right": null,
            "justify_content": null,
            "_view_module": "@jupyter-widgets/base",
            "overflow": null,
            "_model_module_version": "1.2.0",
            "_view_count": null,
            "flex_flow": null,
            "width": null,
            "min_width": null,
            "border": null,
            "align_items": null,
            "bottom": null,
            "_model_module": "@jupyter-widgets/base",
            "top": null,
            "grid_column": null,
            "overflow_y": null,
            "overflow_x": null,
            "grid_auto_flow": null,
            "grid_area": null,
            "grid_template_columns": null,
            "flex": null,
            "_model_name": "LayoutModel",
            "justify_items": null,
            "grid_row": null,
            "max_height": null,
            "align_content": null,
            "visibility": null,
            "align_self": null,
            "height": null,
            "min_height": null,
            "padding": null,
            "grid_auto_rows": null,
            "grid_gap": null,
            "max_width": null,
            "order": null,
            "_view_module_version": "1.2.0",
            "grid_template_areas": null,
            "object_position": null,
            "object_fit": null,
            "grid_auto_columns": null,
            "margin": null,
            "display": null,
            "left": null
          }
        },
        "f34bd59ca5274c9e9befc23b6b1cc214": {
          "model_module": "@jupyter-widgets/controls",
          "model_name": "FloatSliderModel",
          "model_module_version": "1.5.0",
          "state": {
            "_view_name": "FloatSliderView",
            "style": "IPY_MODEL_737564088a86420b9ccb5244d849cd3e",
            "_dom_classes": [],
            "description": "t",
            "step": 0.01,
            "_model_name": "FloatSliderModel",
            "orientation": "horizontal",
            "max": 1,
            "_view_module": "@jupyter-widgets/controls",
            "_model_module_version": "1.5.0",
            "value": 0,
            "_view_count": null,
            "disabled": false,
            "_view_module_version": "1.5.0",
            "min": 0,
            "continuous_update": true,
            "readout_format": ".2f",
            "description_tooltip": null,
            "readout": true,
            "_model_module": "@jupyter-widgets/controls",
            "layout": "IPY_MODEL_1e84d1c3fb9242ebb2d9efc704f90f98"
          }
        },
        "c0015603f02148c0b22d07c9e4577ea2": {
          "model_module": "@jupyter-widgets/output",
          "model_name": "OutputModel",
          "model_module_version": "1.0.0",
          "state": {
            "_view_name": "OutputView",
            "msg_id": "",
            "_dom_classes": [],
            "_model_name": "OutputModel",
            "outputs": [
              {
                "output_type": "display_data",
                "data": {
                  "image/png": "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\n",
                  "text/plain": "<Figure size 576x504 with 4 Axes>"
                },
                "metadata": {
                  "needs_background": "light"
                }
              }
            ],
            "_view_module": "@jupyter-widgets/output",
            "_model_module_version": "1.0.0",
            "_view_count": null,
            "_view_module_version": "1.0.0",
            "layout": "IPY_MODEL_a156c81c531a40069a043d963a2951b2",
            "_model_module": "@jupyter-widgets/output"
          }
        },
        "737564088a86420b9ccb5244d849cd3e": {
          "model_module": "@jupyter-widgets/controls",
          "model_name": "SliderStyleModel",
          "model_module_version": "1.5.0",
          "state": {
            "_view_name": "StyleView",
            "handle_color": null,
            "_model_name": "SliderStyleModel",
            "description_width": "",
            "_view_module": "@jupyter-widgets/base",
            "_model_module_version": "1.5.0",
            "_view_count": null,
            "_view_module_version": "1.2.0",
            "_model_module": "@jupyter-widgets/controls"
          }
        },
        "1e84d1c3fb9242ebb2d9efc704f90f98": {
          "model_module": "@jupyter-widgets/base",
          "model_name": "LayoutModel",
          "model_module_version": "1.2.0",
          "state": {
            "_view_name": "LayoutView",
            "grid_template_rows": null,
            "right": null,
            "justify_content": null,
            "_view_module": "@jupyter-widgets/base",
            "overflow": null,
            "_model_module_version": "1.2.0",
            "_view_count": null,
            "flex_flow": null,
            "width": null,
            "min_width": null,
            "border": null,
            "align_items": null,
            "bottom": null,
            "_model_module": "@jupyter-widgets/base",
            "top": null,
            "grid_column": null,
            "overflow_y": null,
            "overflow_x": null,
            "grid_auto_flow": null,
            "grid_area": null,
            "grid_template_columns": null,
            "flex": null,
            "_model_name": "LayoutModel",
            "justify_items": null,
            "grid_row": null,
            "max_height": null,
            "align_content": null,
            "visibility": null,
            "align_self": null,
            "height": null,
            "min_height": null,
            "padding": null,
            "grid_auto_rows": null,
            "grid_gap": null,
            "max_width": null,
            "order": null,
            "_view_module_version": "1.2.0",
            "grid_template_areas": null,
            "object_position": null,
            "object_fit": null,
            "grid_auto_columns": null,
            "margin": null,
            "display": null,
            "left": null
          }
        },
        "a156c81c531a40069a043d963a2951b2": {
          "model_module": "@jupyter-widgets/base",
          "model_name": "LayoutModel",
          "model_module_version": "1.2.0",
          "state": {
            "_view_name": "LayoutView",
            "grid_template_rows": null,
            "right": null,
            "justify_content": null,
            "_view_module": "@jupyter-widgets/base",
            "overflow": null,
            "_model_module_version": "1.2.0",
            "_view_count": null,
            "flex_flow": null,
            "width": null,
            "min_width": null,
            "border": null,
            "align_items": null,
            "bottom": null,
            "_model_module": "@jupyter-widgets/base",
            "top": null,
            "grid_column": null,
            "overflow_y": null,
            "overflow_x": null,
            "grid_auto_flow": null,
            "grid_area": null,
            "grid_template_columns": null,
            "flex": null,
            "_model_name": "LayoutModel",
            "justify_items": null,
            "grid_row": null,
            "max_height": null,
            "align_content": null,
            "visibility": null,
            "align_self": null,
            "height": null,
            "min_height": null,
            "padding": null,
            "grid_auto_rows": null,
            "grid_gap": null,
            "max_width": null,
            "order": null,
            "_view_module_version": "1.2.0",
            "grid_template_areas": null,
            "object_position": null,
            "object_fit": null,
            "grid_auto_columns": null,
            "margin": null,
            "display": null,
            "left": null
          }
        },
        "94978034c32c4cb29cdfe44e7e19a2d8": {
          "model_module": "@jupyter-widgets/controls",
          "model_name": "VBoxModel",
          "model_module_version": "1.5.0",
          "state": {
            "_view_name": "VBoxView",
            "_dom_classes": [
              "widget-interact"
            ],
            "_model_name": "VBoxModel",
            "_view_module": "@jupyter-widgets/controls",
            "_model_module_version": "1.5.0",
            "_view_count": null,
            "_view_module_version": "1.5.0",
            "box_style": "",
            "layout": "IPY_MODEL_30eac08b647244d8937cc74114bd0d28",
            "_model_module": "@jupyter-widgets/controls",
            "children": [
              "IPY_MODEL_26dd0730ee184a5c920e7e01e109b4e2",
              "IPY_MODEL_8938bd7906eb4bdead3bbf6ff4d26bb4"
            ]
          }
        },
        "30eac08b647244d8937cc74114bd0d28": {
          "model_module": "@jupyter-widgets/base",
          "model_name": "LayoutModel",
          "model_module_version": "1.2.0",
          "state": {
            "_view_name": "LayoutView",
            "grid_template_rows": null,
            "right": null,
            "justify_content": null,
            "_view_module": "@jupyter-widgets/base",
            "overflow": null,
            "_model_module_version": "1.2.0",
            "_view_count": null,
            "flex_flow": null,
            "width": null,
            "min_width": null,
            "border": null,
            "align_items": null,
            "bottom": null,
            "_model_module": "@jupyter-widgets/base",
            "top": null,
            "grid_column": null,
            "overflow_y": null,
            "overflow_x": null,
            "grid_auto_flow": null,
            "grid_area": null,
            "grid_template_columns": null,
            "flex": null,
            "_model_name": "LayoutModel",
            "justify_items": null,
            "grid_row": null,
            "max_height": null,
            "align_content": null,
            "visibility": null,
            "align_self": null,
            "height": null,
            "min_height": null,
            "padding": null,
            "grid_auto_rows": null,
            "grid_gap": null,
            "max_width": null,
            "order": null,
            "_view_module_version": "1.2.0",
            "grid_template_areas": null,
            "object_position": null,
            "object_fit": null,
            "grid_auto_columns": null,
            "margin": null,
            "display": null,
            "left": null
          }
        },
        "26dd0730ee184a5c920e7e01e109b4e2": {
          "model_module": "@jupyter-widgets/controls",
          "model_name": "FloatSliderModel",
          "model_module_version": "1.5.0",
          "state": {
            "_view_name": "FloatSliderView",
            "style": "IPY_MODEL_f94a5ef5970a48bf965cdc8d0c5aa53d",
            "_dom_classes": [],
            "description": "t",
            "step": 0.01,
            "_model_name": "FloatSliderModel",
            "orientation": "horizontal",
            "max": 1,
            "_view_module": "@jupyter-widgets/controls",
            "_model_module_version": "1.5.0",
            "value": 0,
            "_view_count": null,
            "disabled": false,
            "_view_module_version": "1.5.0",
            "min": 0,
            "continuous_update": true,
            "readout_format": ".2f",
            "description_tooltip": null,
            "readout": true,
            "_model_module": "@jupyter-widgets/controls",
            "layout": "IPY_MODEL_c3b47d93514843fb8804c0dbcd37de91"
          }
        },
        "8938bd7906eb4bdead3bbf6ff4d26bb4": {
          "model_module": "@jupyter-widgets/output",
          "model_name": "OutputModel",
          "model_module_version": "1.0.0",
          "state": {
            "_view_name": "OutputView",
            "msg_id": "",
            "_dom_classes": [],
            "_model_name": "OutputModel",
            "outputs": [
              {
                "output_type": "display_data",
                "data": {
                  "image/png": "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\n",
                  "text/plain": "<Figure size 576x288 with 2 Axes>"
                },
                "metadata": {
                  "needs_background": "light"
                }
              }
            ],
            "_view_module": "@jupyter-widgets/output",
            "_model_module_version": "1.0.0",
            "_view_count": null,
            "_view_module_version": "1.0.0",
            "layout": "IPY_MODEL_7ab0b9892298473cad7ffa83ab8263c5",
            "_model_module": "@jupyter-widgets/output"
          }
        },
        "f94a5ef5970a48bf965cdc8d0c5aa53d": {
          "model_module": "@jupyter-widgets/controls",
          "model_name": "SliderStyleModel",
          "model_module_version": "1.5.0",
          "state": {
            "_view_name": "StyleView",
            "handle_color": null,
            "_model_name": "SliderStyleModel",
            "description_width": "",
            "_view_module": "@jupyter-widgets/base",
            "_model_module_version": "1.5.0",
            "_view_count": null,
            "_view_module_version": "1.2.0",
            "_model_module": "@jupyter-widgets/controls"
          }
        },
        "c3b47d93514843fb8804c0dbcd37de91": {
          "model_module": "@jupyter-widgets/base",
          "model_name": "LayoutModel",
          "model_module_version": "1.2.0",
          "state": {
            "_view_name": "LayoutView",
            "grid_template_rows": null,
            "right": null,
            "justify_content": null,
            "_view_module": "@jupyter-widgets/base",
            "overflow": null,
            "_model_module_version": "1.2.0",
            "_view_count": null,
            "flex_flow": null,
            "width": null,
            "min_width": null,
            "border": null,
            "align_items": null,
            "bottom": null,
            "_model_module": "@jupyter-widgets/base",
            "top": null,
            "grid_column": null,
            "overflow_y": null,
            "overflow_x": null,
            "grid_auto_flow": null,
            "grid_area": null,
            "grid_template_columns": null,
            "flex": null,
            "_model_name": "LayoutModel",
            "justify_items": null,
            "grid_row": null,
            "max_height": null,
            "align_content": null,
            "visibility": null,
            "align_self": null,
            "height": null,
            "min_height": null,
            "padding": null,
            "grid_auto_rows": null,
            "grid_gap": null,
            "max_width": null,
            "order": null,
            "_view_module_version": "1.2.0",
            "grid_template_areas": null,
            "object_position": null,
            "object_fit": null,
            "grid_auto_columns": null,
            "margin": null,
            "display": null,
            "left": null
          }
        },
        "7ab0b9892298473cad7ffa83ab8263c5": {
          "model_module": "@jupyter-widgets/base",
          "model_name": "LayoutModel",
          "model_module_version": "1.2.0",
          "state": {
            "_view_name": "LayoutView",
            "grid_template_rows": null,
            "right": null,
            "justify_content": null,
            "_view_module": "@jupyter-widgets/base",
            "overflow": null,
            "_model_module_version": "1.2.0",
            "_view_count": null,
            "flex_flow": null,
            "width": null,
            "min_width": null,
            "border": null,
            "align_items": null,
            "bottom": null,
            "_model_module": "@jupyter-widgets/base",
            "top": null,
            "grid_column": null,
            "overflow_y": null,
            "overflow_x": null,
            "grid_auto_flow": null,
            "grid_area": null,
            "grid_template_columns": null,
            "flex": null,
            "_model_name": "LayoutModel",
            "justify_items": null,
            "grid_row": null,
            "max_height": null,
            "align_content": null,
            "visibility": null,
            "align_self": null,
            "height": null,
            "min_height": null,
            "padding": null,
            "grid_auto_rows": null,
            "grid_gap": null,
            "max_width": null,
            "order": null,
            "_view_module_version": "1.2.0",
            "grid_template_areas": null,
            "object_position": null,
            "object_fit": null,
            "grid_auto_columns": null,
            "margin": null,
            "display": null,
            "left": null
          }
        },
        "0856a5099e5c4fe2a32e994715b16f8a": {
          "model_module": "@jupyter-widgets/controls",
          "model_name": "VBoxModel",
          "model_module_version": "1.5.0",
          "state": {
            "_view_name": "VBoxView",
            "_dom_classes": [
              "widget-interact"
            ],
            "_model_name": "VBoxModel",
            "_view_module": "@jupyter-widgets/controls",
            "_model_module_version": "1.5.0",
            "_view_count": null,
            "_view_module_version": "1.5.0",
            "box_style": "",
            "layout": "IPY_MODEL_1753699ac8d14777ae056db2348a1aac",
            "_model_module": "@jupyter-widgets/controls",
            "children": [
              "IPY_MODEL_890de2a3a9c4454095586be297ab54e5",
              "IPY_MODEL_bf027e2c478d43fea3e7c05a3618cdaf"
            ]
          }
        },
        "1753699ac8d14777ae056db2348a1aac": {
          "model_module": "@jupyter-widgets/base",
          "model_name": "LayoutModel",
          "model_module_version": "1.2.0",
          "state": {
            "_view_name": "LayoutView",
            "grid_template_rows": null,
            "right": null,
            "justify_content": null,
            "_view_module": "@jupyter-widgets/base",
            "overflow": null,
            "_model_module_version": "1.2.0",
            "_view_count": null,
            "flex_flow": null,
            "width": null,
            "min_width": null,
            "border": null,
            "align_items": null,
            "bottom": null,
            "_model_module": "@jupyter-widgets/base",
            "top": null,
            "grid_column": null,
            "overflow_y": null,
            "overflow_x": null,
            "grid_auto_flow": null,
            "grid_area": null,
            "grid_template_columns": null,
            "flex": null,
            "_model_name": "LayoutModel",
            "justify_items": null,
            "grid_row": null,
            "max_height": null,
            "align_content": null,
            "visibility": null,
            "align_self": null,
            "height": null,
            "min_height": null,
            "padding": null,
            "grid_auto_rows": null,
            "grid_gap": null,
            "max_width": null,
            "order": null,
            "_view_module_version": "1.2.0",
            "grid_template_areas": null,
            "object_position": null,
            "object_fit": null,
            "grid_auto_columns": null,
            "margin": null,
            "display": null,
            "left": null
          }
        },
        "890de2a3a9c4454095586be297ab54e5": {
          "model_module": "@jupyter-widgets/controls",
          "model_name": "FloatSliderModel",
          "model_module_version": "1.5.0",
          "state": {
            "_view_name": "FloatSliderView",
            "style": "IPY_MODEL_534c9d2c991d4247b0136963772ed7e7",
            "_dom_classes": [],
            "description": "t",
            "step": 0.01,
            "_model_name": "FloatSliderModel",
            "orientation": "horizontal",
            "max": 1,
            "_view_module": "@jupyter-widgets/controls",
            "_model_module_version": "1.5.0",
            "value": 0,
            "_view_count": null,
            "disabled": false,
            "_view_module_version": "1.5.0",
            "min": 0,
            "continuous_update": true,
            "readout_format": ".2f",
            "description_tooltip": null,
            "readout": true,
            "_model_module": "@jupyter-widgets/controls",
            "layout": "IPY_MODEL_617356baa3a54819893365723e8ffe34"
          }
        },
        "bf027e2c478d43fea3e7c05a3618cdaf": {
          "model_module": "@jupyter-widgets/output",
          "model_name": "OutputModel",
          "model_module_version": "1.0.0",
          "state": {
            "_view_name": "OutputView",
            "msg_id": "",
            "_dom_classes": [],
            "_model_name": "OutputModel",
            "outputs": [
              {
                "output_type": "display_data",
                "data": {
                  "image/png": "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\n",
                  "text/plain": "<Figure size 1080x504 with 8 Axes>"
                },
                "metadata": {
                  "needs_background": "light"
                }
              }
            ],
            "_view_module": "@jupyter-widgets/output",
            "_model_module_version": "1.0.0",
            "_view_count": null,
            "_view_module_version": "1.0.0",
            "layout": "IPY_MODEL_2a32515122ab4b729ee4275171faf1ab",
            "_model_module": "@jupyter-widgets/output"
          }
        },
        "534c9d2c991d4247b0136963772ed7e7": {
          "model_module": "@jupyter-widgets/controls",
          "model_name": "SliderStyleModel",
          "model_module_version": "1.5.0",
          "state": {
            "_view_name": "StyleView",
            "handle_color": null,
            "_model_name": "SliderStyleModel",
            "description_width": "",
            "_view_module": "@jupyter-widgets/base",
            "_model_module_version": "1.5.0",
            "_view_count": null,
            "_view_module_version": "1.2.0",
            "_model_module": "@jupyter-widgets/controls"
          }
        },
        "617356baa3a54819893365723e8ffe34": {
          "model_module": "@jupyter-widgets/base",
          "model_name": "LayoutModel",
          "model_module_version": "1.2.0",
          "state": {
            "_view_name": "LayoutView",
            "grid_template_rows": null,
            "right": null,
            "justify_content": null,
            "_view_module": "@jupyter-widgets/base",
            "overflow": null,
            "_model_module_version": "1.2.0",
            "_view_count": null,
            "flex_flow": null,
            "width": null,
            "min_width": null,
            "border": null,
            "align_items": null,
            "bottom": null,
            "_model_module": "@jupyter-widgets/base",
            "top": null,
            "grid_column": null,
            "overflow_y": null,
            "overflow_x": null,
            "grid_auto_flow": null,
            "grid_area": null,
            "grid_template_columns": null,
            "flex": null,
            "_model_name": "LayoutModel",
            "justify_items": null,
            "grid_row": null,
            "max_height": null,
            "align_content": null,
            "visibility": null,
            "align_self": null,
            "height": null,
            "min_height": null,
            "padding": null,
            "grid_auto_rows": null,
            "grid_gap": null,
            "max_width": null,
            "order": null,
            "_view_module_version": "1.2.0",
            "grid_template_areas": null,
            "object_position": null,
            "object_fit": null,
            "grid_auto_columns": null,
            "margin": null,
            "display": null,
            "left": null
          }
        },
        "2a32515122ab4b729ee4275171faf1ab": {
          "model_module": "@jupyter-widgets/base",
          "model_name": "LayoutModel",
          "model_module_version": "1.2.0",
          "state": {
            "_view_name": "LayoutView",
            "grid_template_rows": null,
            "right": null,
            "justify_content": null,
            "_view_module": "@jupyter-widgets/base",
            "overflow": null,
            "_model_module_version": "1.2.0",
            "_view_count": null,
            "flex_flow": null,
            "width": null,
            "min_width": null,
            "border": null,
            "align_items": null,
            "bottom": null,
            "_model_module": "@jupyter-widgets/base",
            "top": null,
            "grid_column": null,
            "overflow_y": null,
            "overflow_x": null,
            "grid_auto_flow": null,
            "grid_area": null,
            "grid_template_columns": null,
            "flex": null,
            "_model_name": "LayoutModel",
            "justify_items": null,
            "grid_row": null,
            "max_height": null,
            "align_content": null,
            "visibility": null,
            "align_self": null,
            "height": null,
            "min_height": null,
            "padding": null,
            "grid_auto_rows": null,
            "grid_gap": null,
            "max_width": null,
            "order": null,
            "_view_module_version": "1.2.0",
            "grid_template_areas": null,
            "object_position": null,
            "object_fit": null,
            "grid_auto_columns": null,
            "margin": null,
            "display": null,
            "left": null
          }
        }
      }
    }
  },
  "nbformat": 4,
  "nbformat_minor": 0
}